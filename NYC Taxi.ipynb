{
 "cells": [
  {
   "cell_type": "code",
   "execution_count": 99,
   "metadata": {},
   "outputs": [],
   "source": [
    "#Import necessary libraries\n",
    "\n",
    "import pandas as pd\n",
    "import math\n",
    "import scipy as sp\n",
    "import numpy as np\n",
    "import datetime as dt\n",
    "import matplotlib.pyplot as plt\n",
    "import matplotlib.dates as mpdt"
   ]
  },
  {
   "cell_type": "code",
   "execution_count": 2,
   "metadata": {},
   "outputs": [
    {
     "name": "stderr",
     "output_type": "stream",
     "text": [
      "/home/guido/.local/lib/python2.7/site-packages/IPython/core/interactiveshell.py:2714: DtypeWarning: Columns (2) have mixed types. Specify dtype option on import or set low_memory=False.\n",
      "  interactivity=interactivity, compiler=compiler, result=result)\n"
     ]
    }
   ],
   "source": [
    "data_january = pd.read_csv('Downloads/fhv_tripdata_2017-01.csv')"
   ]
  },
  {
   "cell_type": "code",
   "execution_count": 3,
   "metadata": {},
   "outputs": [],
   "source": [
    "data_february = pd.read_csv('Downloads/fhv_tripdata_2017-02.csv')"
   ]
  },
  {
   "cell_type": "code",
   "execution_count": 4,
   "metadata": {},
   "outputs": [],
   "source": [
    "data_january = data_january.drop(['DropOff_datetime'],axis=1)"
   ]
  },
  {
   "cell_type": "code",
   "execution_count": 5,
   "metadata": {},
   "outputs": [],
   "source": [
    "data_january = data_january.drop(['PUlocationID'],axis=1)"
   ]
  },
  {
   "cell_type": "code",
   "execution_count": 6,
   "metadata": {},
   "outputs": [],
   "source": [
    "data_january = data_january.drop(['DOlocationID'],axis=1)"
   ]
  },
  {
   "cell_type": "code",
   "execution_count": 7,
   "metadata": {},
   "outputs": [],
   "source": [
    "data_february = data_february.drop(['DropOff_datetime'],axis=1)\n",
    "data_february = data_february.drop(['PUlocationID'],axis=1)\n",
    "data_february = data_february.drop(['DOlocationID'],axis=1)"
   ]
  },
  {
   "cell_type": "code",
   "execution_count": 8,
   "metadata": {},
   "outputs": [],
   "source": [
    "joint_data = data_january.append(data_february)"
   ]
  },
  {
   "cell_type": "code",
   "execution_count": 9,
   "metadata": {},
   "outputs": [],
   "source": [
    "joint_data['Dispatching_base_num'] = joint_data['Dispatching_base_num'].apply(lambda x: str.upper(str(x)))"
   ]
  },
  {
   "cell_type": "code",
   "execution_count": 10,
   "metadata": {},
   "outputs": [],
   "source": [
    "company_codes = pd.read_csv('ride_sharing_codes.csv')"
   ]
  },
  {
   "cell_type": "code",
   "execution_count": 11,
   "metadata": {},
   "outputs": [],
   "source": [
    "uber_lyft_data = joint_data[joint_data['Dispatching_base_num'].isin(company_codes['Code'])==True]"
   ]
  },
  {
   "cell_type": "code",
   "execution_count": 12,
   "metadata": {},
   "outputs": [
    {
     "name": "stderr",
     "output_type": "stream",
     "text": [
      "/home/guido/.local/lib/python2.7/site-packages/ipykernel_launcher.py:1: SettingWithCopyWarning: \n",
      "A value is trying to be set on a copy of a slice from a DataFrame.\n",
      "Try using .loc[row_indexer,col_indexer] = value instead\n",
      "\n",
      "See the caveats in the documentation: http://pandas.pydata.org/pandas-docs/stable/indexing.html#indexing-view-versus-copy\n",
      "  \"\"\"Entry point for launching an IPython kernel.\n"
     ]
    }
   ],
   "source": [
    "uber_lyft_data['company'] = uber_lyft_data['Dispatching_base_num'].apply(lambda x: 'lyft' if x== 'B02844' or x == 'B02510' else 'uber')"
   ]
  },
  {
   "cell_type": "code",
   "execution_count": 66,
   "metadata": {
    "scrolled": true
   },
   "outputs": [],
   "source": [
    "uber_data = uber_lyft_data[uber_lyft_data['company']=='uber']"
   ]
  },
  {
   "cell_type": "code",
   "execution_count": 56,
   "metadata": {},
   "outputs": [],
   "source": [
    "lyft_data = uber_lyft_data[uber_lyft_data['company']=='lyft']"
   ]
  },
  {
   "cell_type": "code",
   "execution_count": 72,
   "metadata": {
    "scrolled": true
   },
   "outputs": [],
   "source": [
    "uber_counts = uber_data['date'].value_counts().sort_index()"
   ]
  },
  {
   "cell_type": "code",
   "execution_count": 73,
   "metadata": {},
   "outputs": [],
   "source": [
    "uber_counts = pd.DataFrame(uber_counts)"
   ]
  },
  {
   "cell_type": "code",
   "execution_count": 81,
   "metadata": {},
   "outputs": [],
   "source": [
    "uber_counts.columns = ['uber']"
   ]
  },
  {
   "cell_type": "code",
   "execution_count": 78,
   "metadata": {},
   "outputs": [],
   "source": [
    "lyft_counts = lyft_data['date'].value_counts().sort_index()"
   ]
  },
  {
   "cell_type": "code",
   "execution_count": 79,
   "metadata": {},
   "outputs": [],
   "source": [
    "lyft_counts = pd.DataFrame(lyft_counts)"
   ]
  },
  {
   "cell_type": "code",
   "execution_count": 82,
   "metadata": {},
   "outputs": [],
   "source": [
    "lyft_counts.columns = ['lyft']"
   ]
  },
  {
   "cell_type": "code",
   "execution_count": 83,
   "metadata": {},
   "outputs": [],
   "source": [
    "total_rides_per_day = pd.DataFrame()\n",
    "total_rides_per_day['uber'] = uber_counts['uber']\n",
    "total_rides_per_day['lyft'] = lyft_counts['lyft']"
   ]
  },
  {
   "cell_type": "code",
   "execution_count": 86,
   "metadata": {},
   "outputs": [],
   "source": [
    "total_rides_per_day['share_uber'] = total_rides_per_day['uber']/(total_rides_per_day['uber']+total_rides_per_day['lyft'])"
   ]
  },
  {
   "cell_type": "code",
   "execution_count": 87,
   "metadata": {},
   "outputs": [],
   "source": [
    "total_rides_per_day['share_lyft'] = total_rides_per_day['lyft']/(total_rides_per_day['uber']+total_rides_per_day['lyft'])"
   ]
  },
  {
   "cell_type": "code",
   "execution_count": 96,
   "metadata": {},
   "outputs": [
    {
     "data": {
      "text/plain": [
       "[<matplotlib.lines.Line2D at 0x7fac5cb5ccd0>]"
      ]
     },
     "execution_count": 96,
     "metadata": {},
     "output_type": "execute_result"
    },
    {
     "data": {
      "image/png": "[encoded data removed]",
      "text/plain": [
       "<Figure size 432x288 with 1 Axes>"
      ]
     },
     "metadata": {
      "needs_background": "light"
     },
     "output_type": "display_data"
    }
   ],
   "source": [
    "plt.xticks(rotation=70)\n",
    "plt.plot(total_rides_per_day.index.values, total_rides_per_day['share_uber'])"
   ]
  },
  {
   "cell_type": "code",
   "execution_count": 106,
   "metadata": {},
   "outputs": [
    {
     "data": {
      "image/png": "[encoded data removed]",
      "text/plain": [
       "<Figure size 864x864 with 1 Axes>"
      ]
     },
     "metadata": {
      "needs_background": "light"
     },
     "output_type": "display_data"
    }
   ],
   "source": [
    "fig, ax = plt.subplots(figsize=(12, 12))\n",
    "\n",
    "# Add x-axis and y-axis\n",
    "ax.bar(matplotlib.dates.datestr2num(total_rides_per_day.index), total_rides_per_day['share_uber'])\n",
    "ax.xaxis_date()\n",
    "ax.set_ylim([.75,.90])\n",
    "# Set title and labels for axes\n",
    "ax.set(xlabel=\"Date\",\n",
    "       ylabel=\"Uber Rides\",\n",
    "       title=\"Share of Uber rides in NYC\")\n",
    "\n",
    "# Define the date format\n",
    "date_form = mpdt.DateFormatter(\"%m-%d\")\n",
    "ax.xaxis.set_major_formatter(date_form)\n",
    "\n",
    "plt.show()"
   ]
  },
  {
   "cell_type": "code",
   "execution_count": 101,
   "metadata": {},
   "outputs": [
    {
     "data": {
      "text/plain": [
       "Index([u'2017-01-01', u'2017-01-02', u'2017-01-03', u'2017-01-04',\n",
       "       u'2017-01-05', u'2017-01-06', u'2017-01-07', u'2017-01-08',\n",
       "       u'2017-01-09', u'2017-01-10', u'2017-01-11', u'2017-01-12',\n",
       "       u'2017-01-13', u'2017-01-14', u'2017-01-15', u'2017-01-16',\n",
       "       u'2017-01-17', u'2017-01-18', u'2017-01-19', u'2017-01-20',\n",
       "       u'2017-01-21', u'2017-01-22', u'2017-01-23', u'2017-01-24',\n",
       "       u'2017-01-25', u'2017-01-26', u'2017-01-27', u'2017-01-28',\n",
       "       u'2017-01-29', u'2017-01-30', u'2017-01-31', u'2017-02-01',\n",
       "       u'2017-02-02', u'2017-02-03', u'2017-02-04', u'2017-02-05',\n",
       "       u'2017-02-06', u'2017-02-07', u'2017-02-08', u'2017-02-09',\n",
       "       u'2017-02-10', u'2017-02-11', u'2017-02-12', u'2017-02-13',\n",
       "       u'2017-02-14', u'2017-02-15', u'2017-02-16', u'2017-02-17',\n",
       "       u'2017-02-18', u'2017-02-19', u'2017-02-20', u'2017-02-21',\n",
       "       u'2017-02-22', u'2017-02-23', u'2017-02-24', u'2017-02-25',\n",
       "       u'2017-02-26', u'2017-02-27', u'2017-02-28'],\n",
       "      dtype='object')"
      ]
     },
     "execution_count": 101,
     "metadata": {},
     "output_type": "execute_result"
    }
   ],
   "source": [
    "total_rides_per_day.index"
   ]
  },
  {
   "cell_type": "code",
   "execution_count": null,
   "metadata": {},
   "outputs": [],
   "source": []
  }
 ],
 "metadata": {
  "kernelspec": {
   "display_name": "Python 2",
   "language": "python",
   "name": "python2"
  },
  "language_info": {
   "codemirror_mode": {
    "name": "ipython",
    "version": 2
   },
   "file_extension": ".py",
   "mimetype": "text/x-python",
   "name": "python",
   "nbconvert_exporter": "python",
   "pygments_lexer": "ipython2",
   "version": "2.7.18rc1"
  }
 },
 "nbformat": 4,
 "nbformat_minor": 2
}
